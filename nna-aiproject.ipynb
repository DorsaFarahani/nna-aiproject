{
 "cells": [
  {
   "cell_type": "code",
   "execution_count": 7,
   "id": "4effb2a4",
   "metadata": {},
   "outputs": [
    {
     "name": "stdout",
     "output_type": "stream",
     "text": [
      "[[ 2.02325098e-03 -1.16027443e-02  5.29871173e-02 ... -9.04626650e-03\n",
      "   2.10358329e-02  2.15179135e-02]\n",
      " [-1.97584066e-02 -7.60455894e-02 -5.24486095e-03 ...  1.01996718e-03\n",
      "   7.48321679e-02 -3.80225732e-02]\n",
      " [-1.32190298e-02 -5.10624117e-02 -4.41465606e-03 ...  2.71527035e-02\n",
      "  -1.59206483e-02  6.23926047e-02]\n",
      " ...\n",
      " [ 2.03143196e-02  1.36838982e-02 -6.99270702e-03 ... -3.43835384e-02\n",
      "  -8.07605498e-03 -2.92039362e-02]\n",
      " [-2.96586125e-05 -1.85507262e-02  1.16463465e-02 ... -4.29636890e-02\n",
      "   4.53070991e-02 -5.36317130e-02]\n",
      " [ 4.65938610e-02  2.60523816e-02 -2.26438432e-02 ...  2.69088251e-02\n",
      "  -4.25082388e-02  2.91451480e-04]]\n",
      "Taget number is:  7\n"
     ]
    },
    {
     "data": {
      "text/plain": [
       "array([[0.03890271],\n",
       "       [0.03792478],\n",
       "       [0.04809886],\n",
       "       [0.05230116],\n",
       "       [0.04549462],\n",
       "       [0.95692497],\n",
       "       [0.04257726],\n",
       "       [0.04536714],\n",
       "       [0.04990384],\n",
       "       [0.03619971]])"
      ]
     },
     "execution_count": 7,
     "metadata": {},
     "output_type": "execute_result"
    },
    {
     "data": {
      "image/png": "[encoded data removed]",
      "text/plain": [
       "<Figure size 640x480 with 1 Axes>"
      ]
     },
     "metadata": {},
     "output_type": "display_data"
    }
   ],
   "source": [
    "\n",
    "import numpy as np\n",
    "from scipy.special import expit, logit\n",
    "import matplotlib.pyplot as plt\n",
    "\n",
    "\n",
    "class NeuralNetwork:\n",
    "\n",
    "    # راه اندازی شبکه عصبی \n",
    "    def __init__(self, input_nodes, hidden_nodes, output_nodes, learning_rate):\n",
    "        # تعیین تعداد نورون‌های لایه‌های مختلف\n",
    "        self.input_nodes = input_nodes\n",
    "        self.hidden_nodes = hidden_nodes\n",
    "        self.output_nodes = output_nodes\n",
    "\n",
    "        # تعیین نرخ یادگیری\n",
    "        self.learning_rate = learning_rate\n",
    "        \n",
    "        # ایجاد تابع فعال سازی که اینجا سیگموییدی است ولی می تواند متفاوت باشد\n",
    "        self.activation_function = lambda x : expit(x)\n",
    "\n",
    "\n",
    "        # ایجاد دو ماتریس وزن‌های اولیه\n",
    "        # یکی برای وزن‌های بین لایه ورودی و مخفی و یکی برای وزن‌های بین لایه مخفی و خروجی \n",
    "        # هر وزن با ایندکس آی و جی، وزن اتصال بین نورون آی از لایه مبدا به نورون جی در لایه مقصد است.\n",
    "        #  و به همین ترتیب w12 w21 مثلا\n",
    "        self.w_i_h = np.random.default_rng().normal(0, pow(self.input_nodes, -0.5),\n",
    "                                                    (self.hidden_nodes, self.input_nodes))\n",
    "        self.w_h_o = np.random.default_rng().normal(0, pow(self.hidden_nodes, -0.5),\n",
    "                                                    (self.output_nodes, self.hidden_nodes))\n",
    "        pass\n",
    "\n",
    "\n",
    "        # یادگیری شبکه بر اساس یک نمونه ورودی/خروجی - پس انتشار\n",
    "    def train(self, input_list, targets_list):\n",
    "        # محاسبه سیگنال‌های ورودی و خروجی لایه‌ها\n",
    "        inputs = np.array(input_list, ndmin=2).T\n",
    "\n",
    "        x_hidden = np.dot(self.w_i_h, inputs)\n",
    "        o_hidden = self.activation_function(x_hidden)\n",
    "\n",
    "        x_output = np.dot(self.w_h_o, o_hidden)\n",
    "        o_output = self.activation_function(x_output)\n",
    "\n",
    "        #محاسبه خطای شبکه بر اساس اختلاف خروجی با هدف‌ها\n",
    "        targets = np.array(targets_list, ndmin=2).T\n",
    "        output_errors = targets - o_output\n",
    "        #پس انتشار خطای شبکه روی نورون‌های لایه مخفی\n",
    "        hidden_errors = np.dot(self.w_h_o.T, output_errors)\n",
    "\n",
    "        # محاسبه وزن‌های جدید اتصال‌ها با گرادیان کاهشی\n",
    "        self.w_h_o += self.learning_rate * np.dot((output_errors * o_output * (1-o_output)), o_hidden.T)\n",
    "        self.w_i_h += self.learning_rate * np.dot((hidden_errors * o_hidden * (1-o_hidden)), inputs.T)\n",
    "       \n",
    "\n",
    "    # محاسبه خروجی شبکه با دادن ورودی - پیش خور\n",
    "    def query(self, input_list):\n",
    "        # تبدیل لیست مقادیر ورودی به آرایه دوبعدی\n",
    "        inputs = np.array(input_list, ndmin=2).T\n",
    "\n",
    "        # محاسبه سیگنال ورودی و سپس خروجی لایه مخفی\n",
    "        x_hidden = np.dot(self.w_i_h, inputs)\n",
    "        o_hidden = self.activation_function(x_hidden)\n",
    "\n",
    "        # محاسبه سیگنال ورودی و سپس خروجی لایه خروجی\n",
    "        x_output = np.dot(self.w_h_o, o_hidden)\n",
    "        o_output = self.activation_function(x_output)\n",
    "\n",
    "        return o_output\n",
    "\n",
    "input_nodes = 784\n",
    "hidden_nodes = 100\n",
    "output_nodes = 10\n",
    "learning_rate = 0.3\n",
    "\n",
    "nn = NeuralNetwork(input_nodes=input_nodes, hidden_nodes=hidden_nodes, output_nodes= output_nodes, learning_rate=learning_rate)\n",
    "train = open(r\"C:\\Users\\Asus\\Desktop\\mnist_train_100.csv\",'r')\n",
    "train_list = train.readlines()\n",
    "train.close()\n",
    "train_list[0]\n",
    "row_data = train_list[0].split(',')\n",
    "\n",
    "for row in train_list :\n",
    "    row_data = train_list[0].split(',')\n",
    "    scale_input = (np.asarray(row_data[1:], dtype= np.float32) / (255.0 * 0.99 )) + 0.01\n",
    "    neoron_output = 10\n",
    "    scale_target = np.zeros(output_nodes) + 0.01\n",
    "    scale_target [int(row_data[0])] = 0.99\n",
    "    nn.train(scale_input,scale_target)\n",
    " \n",
    "print(nn.w_i_h)    \n",
    "\n",
    "test_file = open(r\"C:\\Users\\Asus\\Desktop\\mnist_test_10.csv\",'r')\n",
    "test_list = test_file.readlines()\n",
    "test_file.close()\n",
    "\n",
    "test_row_data = test_list[0].split(',')\n",
    "print(\"Taget number is: \", test_row_data[0])\n",
    "image_data = np.asarray(test_row_data[1:],dtype= np.float32 ).reshape((28,28))\n",
    "image = plt.imshow(image_data, cmap='grey')\n",
    "\n",
    "nn.query(( np.asarray(test_row_data[1:], dtype=np.float32 )/(255.0 * 0.98)) + 0.01)\n",
    "\n",
    "     "
   ]
  },
  {
   "cell_type": "code",
   "execution_count": 8,
   "id": "38dfdb2b",
   "metadata": {},
   "outputs": [
    {
     "name": "stdout",
     "output_type": "stream",
     "text": [
      "AxesImage(shape=(28, 28))\n"
     ]
    },
    {
     "data": {
      "image/png": "[encoded data removed]",
      "text/plain": [
       "<Figure size 640x480 with 1 Axes>"
      ]
     },
     "metadata": {},
     "output_type": "display_data"
    }
   ],
   "source": [
    "from numpy import *\n",
    "import matplotlib.pyplot as plt\n",
    "train = open(r\"C:\\Users\\Asus\\Desktop\\mnist_train_100.csv\",'r')\n",
    "train_list = train.readlines()\n",
    "train.close()\n",
    "train_list[0]\n",
    "row_data = train_list[0].split(',')\n",
    "#print(row_data)\n",
    "# row-data is a python list now so we ave to change it to numpy list\n",
    "image_data = np.asarray(row_data[1:], dtype= np.float32).reshape((28,28))\n",
    "#print(image_data) \n",
    "images = plt.imshow( image_data, cmap= 'grey')\n",
    "print(images)"
   ]
  },
  {
   "cell_type": "code",
   "execution_count": 9,
   "id": "6dadd053",
   "metadata": {},
   "outputs": [
    {
     "name": "stdout",
     "output_type": "stream",
     "text": [
      "[0.01 0.01 0.01 0.01 0.01 0.99 0.01 0.01 0.01 0.01]\n"
     ]
    }
   ],
   "source": [
    "scale_input = (np.asarray(row_data[1:], dtype= np.float32) / (255.0 * 0.99 )) + 0.01\n",
    "neoron_output = 10\n",
    "scale_target = np.zeros(output_nodes) + 0.01\n",
    "scale_target [int(row_data[0])] = 0.99\n",
    "print(scale_target)"
   ]
  }
 ],
 "metadata": {
  "kernelspec": {
   "display_name": "moonenv",
   "language": "python",
   "name": "python3"
  },
  "language_info": {
   "codemirror_mode": {
    "name": "ipython",
    "version": 3
   },
   "file_extension": ".py",
   "mimetype": "text/x-python",
   "name": "python",
   "nbconvert_exporter": "python",
   "pygments_lexer": "ipython3",
   "version": "3.9.17"
  }
 },
 "nbformat": 4,
 "nbformat_minor": 5
}
